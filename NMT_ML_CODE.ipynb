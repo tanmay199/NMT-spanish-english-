{
  "nbformat": 4,
  "nbformat_minor": 0,
  "metadata": {
    "accelerator": "GPU",
    "colab": {
      "name": "NMT_ML_CODE.ipynb",
      "provenance": [],
      "collapsed_sections": [],
      "toc_visible": true
    },
    "kernelspec": {
      "name": "python3",
      "display_name": "Python 3"
    }
  },
  "cells": [
    {
      "cell_type": "code",
      "metadata": {
        "colab_type": "code",
        "id": "tnxXKDjq3jEL",
        "colab": {}
      },
      "source": [
        "import tensorflow as tf\n",
        "from sklearn.model_selection import train_test_split\n",
        "import unicodedata\n",
        "import matplotlib.pyplot as plt\n",
        "import matplotlib.ticker as ticker\n",
        "from sklearn.utils import shuffle\n",
        "import re\n",
        "import numpy as np\n",
        "import os\n",
        "import io\n",
        "import time"
      ],
      "execution_count": 0,
      "outputs": []
    },
    {
      "cell_type": "code",
      "metadata": {
        "colab_type": "code",
        "id": "kRVATYOgJs1b",
        "colab": {}
      },
      "source": [
        "#spanish to english dataset\n",
        "#the input data is in a single file with a tab between input and output \n",
        "#and total of 1,18,964 pair sentences are present\n",
        "path_to_file = \"/content/spa.txt\""
      ],
      "execution_count": 0,
      "outputs": []
    },
    {
      "cell_type": "code",
      "metadata": {
        "id": "XnCiz4hJLp3r",
        "colab_type": "code",
        "colab": {}
      },
      "source": [
        "# Converts the unicode sentence to ascii\n",
        "def unicode_to_ascii(s):\n",
        "  return ''.join(c for c in unicodedata.normalize('NFD', s)\n",
        "      if unicodedata.category(c) != 'Mn')"
      ],
      "execution_count": 0,
      "outputs": []
    },
    {
      "cell_type": "code",
      "metadata": {
        "colab_type": "code",
        "id": "rd0jw-eC3jEh",
        "colab": {}
      },
      "source": [
        "def preprocess(w):\n",
        "  w = unicode_to_ascii(w.lower().strip())\n",
        "  w = re.sub(r\"([?.!,¿])\", r\" \\1 \", w)#adding a space before the punctuation(\\1 is used to tell to use the same symbol that was detected)\n",
        "  w = re.sub(r'[\" \"]+', \" \", w)#remove more than one space\n",
        "  w = re.sub(r\"[^a-zA-Z?.!,¿]+\", \" \", w)# replacing everything with space except given chars\n",
        "  w=w.strip()\n",
        "  w = '<start> ' + w +' <end>'\n",
        "  return w"
      ],
      "execution_count": 0,
      "outputs": []
    },
    {
      "cell_type": "code",
      "metadata": {
        "id": "R8dk0ay4HlzE",
        "colab_type": "code",
        "outputId": "c9818fd7-1684-4503-8e0a-00d8dd6402b0",
        "colab": {
          "base_uri": "https://localhost:8080/",
          "height": 52
        }
      },
      "source": [
        "en_sentence = u\"May I borrow this @#$%^ book?\"\n",
        "sp_sentence = u\"¿Puedo tomar prestado este libro?\"\n",
        "print(preprocess(en_sentence))\n",
        "print(preprocess(sp_sentence).encode('utf-8'))"
      ],
      "execution_count": 0,
      "outputs": [
        {
          "output_type": "stream",
          "text": [
            "<start> may i borrow this book ? <end>\n",
            "b'<start> \\xc2\\xbf puedo tomar prestado este libro ? <end>'\n"
          ],
          "name": "stdout"
        }
      ]
    },
    {
      "cell_type": "code",
      "metadata": {
        "colab_type": "code",
        "id": "OHn4Dct23jEm",
        "colab": {}
      },
      "source": [
        "# to create dataset(divide input and output)\n",
        "def dividedataset(path,maxdata=None):\n",
        "  alllines=io.open(path,encoding='UTF-8').read().strip().split('\\n')#to separate each line by using split at \\n\n",
        "  datapairs=[[preprocess(data) for data in lines.split('\\t')]for lines in alllines[:maxdata]]#make a list of tuples of input and target\n",
        "  return zip(*datapairs)#zip them so that they could be returned separately as a pair(english,spanish)"
      ],
      "execution_count": 0,
      "outputs": []
    },
    {
      "cell_type": "code",
      "metadata": {
        "id": "LeS4D_cPIe1X",
        "colab_type": "code",
        "outputId": "6d1b674d-50fc-4ab1-aa0c-cb71ac689d5f",
        "colab": {
          "base_uri": "https://localhost:8080/",
          "height": 86
        }
      },
      "source": [
        "en, sp = dividedataset(path_to_file, None)\n",
        "en,sp=shuffle(en,sp)\n",
        "print(len(en))\n",
        "print(len(sp))\n",
        "print(en[-1])\n",
        "print(sp[-1])"
      ],
      "execution_count": 0,
      "outputs": [
        {
          "output_type": "stream",
          "text": [
            "118964\n",
            "118964\n",
            "<start> are you getting along with your neighbors ? <end>\n",
            "<start> ¿ te llevas bien con tus vecinos ? <end>\n"
          ],
          "name": "stdout"
        }
      ]
    },
    {
      "cell_type": "code",
      "metadata": {
        "colab_type": "code",
        "id": "OmMZQpdO60dt",
        "colab": {}
      },
      "source": [
        "def max_length(tensor):\n",
        "  return max(len(t) for t in tensor)"
      ],
      "execution_count": 0,
      "outputs": []
    },
    {
      "cell_type": "code",
      "metadata": {
        "colab_type": "code",
        "id": "bIOn8RCNDJXG",
        "outputId": "31a290fd-21f6-4f83-b3b1-72ff06b17c5b",
        "colab": {
          "base_uri": "https://localhost:8080/",
          "height": 34
        }
      },
      "source": [
        "def tokenize(text):\n",
        "  tokenizer=tf.keras.preprocessing.text.Tokenizer(filters='')\n",
        "  tokenizer.fit_on_texts(text)\n",
        "  encodedtext=tokenizer.texts_to_sequences(text)\n",
        "  encodedtext=tf.keras.preprocessing.sequence.pad_sequences(encodedtext,padding='post')#zero pad to max length\n",
        "  return encodedtext,tokenizer\n",
        "print(tokenize([\"May I borrow this book\"])[0])"
      ],
      "execution_count": 0,
      "outputs": [
        {
          "output_type": "stream",
          "text": [
            "[[1 2 3 4 5]]\n"
          ],
          "name": "stdout"
        }
      ]
    },
    {
      "cell_type": "code",
      "metadata": {
        "colab_type": "code",
        "id": "eAY9k49G3jE_",
        "colab": {}
      },
      "source": [
        "def makedataset(path,maxdata=None):\n",
        "   target,inp=dividedataset(path,maxdata)\n",
        "   inputdata,inputdict=tokenize(inp)#inp is spanish,target is english\n",
        "   targetdata,targetdict=tokenize(target)#\n",
        "   return inputdata,inputdict,targetdata,targetdict# returning the tokenizer cause it is a dictionary of word to index"
      ],
      "execution_count": 0,
      "outputs": []
    },
    {
      "cell_type": "code",
      "metadata": {
        "id": "7MI32CT1q62z",
        "colab_type": "code",
        "outputId": "d05c5001-08e4-4a4d-ffe6-cda04b97bb82",
        "colab": {
          "base_uri": "https://localhost:8080/",
          "height": 34
        }
      },
      "source": [
        "inputdata,inputdict,targetdata,targetdict=makedataset(path_to_file,67000)\n",
        "print(inputdata.shape,targetdata.shape)#(67,000 sentence pairs)"
      ],
      "execution_count": 0,
      "outputs": [
        {
          "output_type": "stream",
          "text": [
            "(67000, 20) (67000, 14)\n"
          ],
          "name": "stdout"
        }
      ]
    },
    {
      "cell_type": "code",
      "metadata": {
        "id": "ZdVpnbYeW052",
        "colab_type": "code",
        "outputId": "c58ec42c-ea32-49a9-aa3e-56482ff29bcc",
        "colab": {
          "base_uri": "https://localhost:8080/",
          "height": 69
        }
      },
      "source": [
        "print(inputdata[0])#spanish\n",
        "print(targetdata[0])#english\n",
        "input_length=inputdata.shape[1]\n",
        "target_length=targetdata.shape[1]"
      ],
      "execution_count": 0,
      "outputs": [
        {
          "output_type": "stream",
          "text": [
            "[  1 218   3   2   0   0   0   0   0   0   0   0   0   0   0   0   0   0\n",
            "   0   0]\n",
            "[ 1 44  3  2  0  0  0  0  0  0  0  0  0  0]\n"
          ],
          "name": "stdout"
        }
      ]
    },
    {
      "cell_type": "code",
      "metadata": {
        "colab_type": "code",
        "id": "4QILQkOs3jFG",
        "colab": {}
      },
      "source": [
        "# Creating training and validation sets using an 80-20 split\n",
        "input_train, input_test, target_train, target_test = train_test_split(inputdata, targetdata, test_size=0.2)"
      ],
      "execution_count": 0,
      "outputs": []
    },
    {
      "cell_type": "code",
      "metadata": {
        "colab_type": "code",
        "id": "TqHsArVZ3jFS",
        "colab": {}
      },
      "source": [
        "totalsize = len(input_train)\n",
        "BATCH_SIZE = 64\n",
        "steps_per_epoch = totalsize//BATCH_SIZE\n",
        "embedding_dim = 300\n",
        "gruunits = 1024\n",
        "vocab_size_input = len(inputdict.word_index)+1\n",
        "vocab_size_target = len(targetdict.word_index)+1\n",
        "batchdataset = tf.data.Dataset.from_tensor_slices((input_train, target_train)).shuffle(totalsize)#gives batches of dataset \n",
        "batchdataset = batchdataset.batch(BATCH_SIZE, drop_remainder=True)"
      ],
      "execution_count": 0,
      "outputs": []
    },
    {
      "cell_type": "code",
      "metadata": {
        "colab_type": "code",
        "id": "qc6-NK1GtWQt",
        "outputId": "937b047b-242d-4e2c-c21f-6e5ced817bc2",
        "colab": {
          "base_uri": "https://localhost:8080/",
          "height": 52
        }
      },
      "source": [
        "example_input_batch, example_target_batch = next(iter(batchdataset))\n",
        "print(\"input_batch shape \",example_input_batch.shape)\n",
        "print(\"target_batch shape \",example_target_batch.shape)"
      ],
      "execution_count": 0,
      "outputs": [
        {
          "output_type": "stream",
          "text": [
            "input_batch shape  (64, 20)\n",
            "target_batch shape  (64, 14)\n"
          ],
          "name": "stdout"
        }
      ]
    },
    {
      "cell_type": "code",
      "metadata": {
        "colab_type": "code",
        "id": "nZ2rI24i3jFg",
        "colab": {}
      },
      "source": [
        "class encoder_model(tf.keras.Model):#using the keras model class\n",
        "  def __init__(self,vocabsize,embedsize,rnnunits,batch):\n",
        "    super(encoder_model,self).__init__()\n",
        "    self.units=rnnunits\n",
        "    self.batchsize=batch\n",
        "    self.embedlayer=tf.keras.layers.Embedding(vocabsize,embedsize)\n",
        "    self.gru=tf.keras.layers.GRU(rnnunits,return_sequences=True,return_state=True,recurrent_initializer='glorot_uniform')\n",
        "  \n",
        "  def call(self,input,hidden):\n",
        "    out=self.embedlayer(input)\n",
        "    output,finalstate=self.gru(out)#the last time step output and the final hidden are same\n",
        "    return output,finalstate\n",
        "  \n",
        "  def initalise(self):#this method is required because while evaluating tests the initial hidden to encoder wont be of size batchsize and so the hidden state need to be given as parameter for encoder()\n",
        "    return tf.zeros((self.batchsize,self.units))"
      ],
      "execution_count": 0,
      "outputs": []
    },
    {
      "cell_type": "code",
      "metadata": {
        "colab_type": "code",
        "id": "60gSVh05Jl6l",
        "outputId": "73daa72b-fa3b-4087-af2d-4d760578a41f",
        "colab": {
          "base_uri": "https://localhost:8080/",
          "height": 52
        }
      },
      "source": [
        "encoder=encoder_model(vocab_size_input,embedding_dim,gruunits,BATCH_SIZE)\n",
        "hidden=encoder.initalise()\n",
        "output,hiddenstate=encoder(example_input_batch,hidden)\n",
        "print ('Encoder output shape: (batch size, sequence length, units) {}'.format(output.shape))\n",
        "print ('Encoder Hidden state shape: (batch size, units) {}'.format(hiddenstate.shape))"
      ],
      "execution_count": 0,
      "outputs": [
        {
          "output_type": "stream",
          "text": [
            "Encoder output shape: (batch size, sequence length, units) (64, 20, 1024)\n",
            "Encoder Hidden state shape: (batch size, units) (64, 1024)\n"
          ],
          "name": "stdout"
        }
      ]
    },
    {
      "cell_type": "code",
      "metadata": {
        "colab_type": "code",
        "id": "umohpBN2OM94",
        "colab": {}
      },
      "source": [
        "class Attention(tf.keras.layers.Layer):\n",
        "  def __init__(self,FCunits):\n",
        "    super(Attention,self).__init__()\n",
        "    self.units=FCunits\n",
        "    self.w1=tf.keras.layers.Dense(FCunits)#for encoderoutput\n",
        "    self.w2=tf.keras.layers.Dense(FCunits)#for previous hiddenstate\n",
        "    self.v=tf.keras.layers.Dense(1)\n",
        "\n",
        "  def call(self,hiddenstate,encoderoutput):\n",
        "    hiddenstate=tf.expand_dims(hiddenstate,1)#to make it equal dim as encoderoutput so that they can be added\n",
        "    alignment=self.v(tf.nn.tanh(self.w1(encoderoutput)+self.w2(hiddenstate)))\n",
        "    attention=tf.nn.softmax(alignment,axis=1)#apply softmax\n",
        "    context=attention*encoderoutput\n",
        "    context=tf.reduce_sum(context,axis=1)#adding all the words i.e.all timesteps\n",
        "    return context, attention#To plot the attention weights"
      ],
      "execution_count": 0,
      "outputs": []
    },
    {
      "cell_type": "code",
      "metadata": {
        "colab_type": "code",
        "id": "k534zTHiDjQU",
        "outputId": "5b76dbb5-d5a4-4f0c-9104-cb48810a0912",
        "colab": {
          "base_uri": "https://localhost:8080/",
          "height": 34
        }
      },
      "source": [
        "attention=Attention(20)\n",
        "context,weights=attention(hiddenstate,output)\n",
        "print ('context vector output shape: (batch size, units) {}'.format(context.shape))"
      ],
      "execution_count": 0,
      "outputs": [
        {
          "output_type": "stream",
          "text": [
            "context vector output shape: (batch size, units) (64, 1024)\n"
          ],
          "name": "stdout"
        }
      ]
    },
    {
      "cell_type": "code",
      "metadata": {
        "colab_type": "code",
        "id": "yJ_B3mhW3jFk",
        "colab": {}
      },
      "source": [
        "class decoder_model(tf.keras.Model):\n",
        "  def __init__(self,rnnunits,vocabsize,embedsize):\n",
        "    super(decoder_model,self).__init__()\n",
        "    self.units=rnnunits\n",
        "    self.embedlayer=tf.keras.layers.Embedding(vocabsize,embedsize)\n",
        "    self.gru=tf.keras.layers.GRU(rnnunits,return_sequences=True,return_state=True,recurrent_initializer='glorot_uniform')\n",
        "    self.fclayer=tf.keras.layers.Dense(vocabsize)\n",
        "    self.attention=Attention(rnnunits)\n",
        "\n",
        "  def call(self,encoderoutput,hiddenstate,inputword):\n",
        "      context,attention_weights=self.attention(hiddenstate,encoderoutput)\n",
        "      output=self.embedlayer(inputword)\n",
        "      context=tf.expand_dims(context,1)#to match it to dimensions of output(batchsize,1,embedsize)\n",
        "      gruinput=tf.concat([context,output],-1)\n",
        "      output,finalhidden=self.gru(gruinput)\n",
        "      output=tf.reshape(output, (-1, output.shape[2]))#make (batchsize,1,units) to (batchsize,units)\n",
        "      output=self.fclayer(output)#fc layer to produce onehot of the output\n",
        "      return output,finalhidden,attention_weights"
      ],
      "execution_count": 0,
      "outputs": []
    },
    {
      "cell_type": "code",
      "metadata": {
        "colab_type": "code",
        "id": "P5UY8wko3jFp",
        "outputId": "c8f45cf4-f9cb-44e7-af52-52651349289a",
        "colab": {
          "base_uri": "https://localhost:8080/",
          "height": 52
        }
      },
      "source": [
        "decoder=decoder_model(gruunits,vocab_size_target,embedding_dim)\n",
        "decoderoutput,hid,w=decoder(output,hiddenstate,tf.random.uniform((BATCH_SIZE, 1)))\n",
        "print ('Decoder output shape: (batch_size, vocab size) {}'.format(decoderoutput.shape))\n",
        "print ('Decoder hidden shape: (batch_size, units) {}'.format(hid.shape))"
      ],
      "execution_count": 0,
      "outputs": [
        {
          "output_type": "stream",
          "text": [
            "Decoder output shape: (batch_size, vocab size) (64, 8248)\n",
            "Decoder hidden shape: (batch_size, units) (64, 1024)\n"
          ],
          "name": "stdout"
        }
      ]
    },
    {
      "cell_type": "code",
      "metadata": {
        "colab_type": "code",
        "id": "WmTHr5iV3jFr",
        "colab": {}
      },
      "source": [
        "optimizer = tf.keras.optimizers.Adam()\n",
        "crossentropy = tf.keras.losses.SparseCategoricalCrossentropy(from_logits=True, reduction='none')\n",
        "def findloss(actual,pred):\n",
        "  mask = tf.math.logical_not(tf.math.equal(actual, 0))#to check if any index of the sentence is mistakenly encoded to 0(if yes then loss corresponding that is made 0)\n",
        "  losss = crossentropy(actual, pred)\n",
        "  mask = tf.cast(mask, dtype=losss.dtype)\n",
        "  losss *= mask\n",
        "  return tf.reduce_mean(losss)# mean of the array"
      ],
      "execution_count": 0,
      "outputs": []
    },
    {
      "cell_type": "code",
      "metadata": {
        "colab_type": "code",
        "id": "sC9ArXSsVfqn",
        "colab": {}
      },
      "source": [
        "@tf.function\n",
        "def trainbatch(inputs,target,encoderhidden):\n",
        "  loss=0\n",
        "  with tf.GradientTape() as tape:\n",
        "    encoderoutput,encoderhidden=encoder(inputs,encoderhidden)\n",
        "    decoderhidden=encoderhidden#for first time step\n",
        "    decoderinput=tf.expand_dims([targetdict.word_index['<start>']] * BATCH_SIZE, 1)#a input of (64,1) and each input is index of <start>\n",
        "    for time in range(1,target.shape[1]):#the total timesteps\n",
        "       decoderoutput,decoderhidden,_=decoder(encoderoutput,decoderhidden,decoderinput)\n",
        "       loss+=findloss(target[:,time],decoderoutput)#target[:,time] is the first word of all batches\n",
        "       decoderinput=tf.expand_dims(target[:,time],1)#teacherforcing\n",
        "    batchloss=loss/int(target.shape[1])\n",
        "  weights=encoder.trainable_variables+decoder.trainable_variables\n",
        "  gradients = tape.gradient(loss, weights)\n",
        "  optimizer.apply_gradients(zip(gradients, weights))\n",
        "  return batchloss"
      ],
      "execution_count": 0,
      "outputs": []
    },
    {
      "cell_type": "code",
      "metadata": {
        "colab_type": "code",
        "id": "A3LLCx3ZE0Ls",
        "colab": {}
      },
      "source": [
        "testdataset = tf.data.Dataset.from_tensor_slices((input_test, target_test)).shuffle(input_test.shape[0])#gives batches of dataset \n",
        "testdataset = testdataset.batch(BATCH_SIZE, drop_remainder=True)\n",
        "steps=input_test.shape[0]//BATCH_SIZE"
      ],
      "execution_count": 0,
      "outputs": []
    },
    {
      "cell_type": "code",
      "metadata": {
        "id": "qjtF6flqWtdn",
        "colab_type": "code",
        "colab": {}
      },
      "source": [
        "def validationloss(input_test,target_test):\n",
        "  totalloss=0\n",
        "  for (batch,(inputs,target)) in enumerate(testdataset.take(steps)):\n",
        "     encoderhidden=tf.zeros((BATCH_SIZE,gruunits))\n",
        "     encoderoutput,encoderhidden=encoder(inputs,encoderhidden)\n",
        "     decoderhidden=encoderhidden\n",
        "     decoderinput=tf.expand_dims([targetdict.word_index['<start>']]*BATCH_SIZE,1)\n",
        "     loss=0\n",
        "     for time in range(1,target_test.shape[1]):\n",
        "      decoderoutput,decoderhidden,_=decoder(encoderoutput,decoderhidden,decoderinput)\n",
        "      loss+=findloss(target[:,time],decoderoutput)\n",
        "      decoderinput=tf.argmax(decoderoutput,axis=1)\n",
        "      decoderinput=tf.reshape(decoderinput,(decoderinput.shape[0],1))\n",
        "     batchloss=loss/int(target_test.shape[1])\n",
        "     totalloss+=batchloss\n",
        "  return totalloss/steps"
      ],
      "execution_count": 0,
      "outputs": []
    },
    {
      "cell_type": "code",
      "metadata": {
        "colab_type": "code",
        "id": "ddefjBMa3jF0",
        "colab": {}
      },
      "source": [
        "def train(epochs):\n",
        " Train_loss=[]\n",
        " for epoch in range(epochs):\n",
        "   start = time.time()\n",
        "   netloss=0\n",
        "   count=0\n",
        "   encoderhidden=encoder.initalise()\n",
        "   progbar = tf.keras.utils.Progbar(steps_per_epoch)\n",
        "   for (batch,(inputs,targets)) in enumerate(batchdataset.take(steps_per_epoch)):\n",
        "     batchloss=trainbatch(inputs,targets,encoderhidden)\n",
        "     netloss+=batchloss\n",
        "     if batch % 100 == 0:\n",
        "      print('\\nEpoch {} Batch {} Loss {:.4f}'.format(epoch + 1,batch,batchloss.numpy()))\n",
        "     count+=1\n",
        "     progbar.update(count)   \n",
        "   print('Epoch {} Loss {:.4f}'.format(epoch + 1,netloss / steps_per_epoch))\n",
        "   Train_loss.append((netloss / steps_per_epoch))\n",
        "   l=validationloss(input_test,target_test)\n",
        "   print(\"The validation/test loss after epoch {} is {:.4f}\".format(epoch+1,l))\n",
        "   print('Time taken for 1 epoch {} sec\\n'.format(time.time() - start))\n",
        " return Train_loss  "
      ],
      "execution_count": 0,
      "outputs": []
    },
    {
      "cell_type": "code",
      "metadata": {
        "id": "REEfW3THYOnX",
        "colab_type": "code",
        "outputId": "b98626ed-df17-4c15-caae-7eae8628785f",
        "colab": {
          "base_uri": "https://localhost:8080/",
          "height": 1000
        }
      },
      "source": [
        "EPOCHS=20\n",
        "Train_loss=train(EPOCHS)"
      ],
      "execution_count": 0,
      "outputs": [
        {
          "output_type": "stream",
          "text": [
            "\n",
            "Epoch 1 Batch 0 Loss 4.3480\n",
            "100/837 [==>...........................] - ETA: 3:34\n",
            "Epoch 1 Batch 100 Loss 2.2263\n",
            "200/837 [======>.......................] - ETA: 2:20\n",
            "Epoch 1 Batch 200 Loss 1.9925\n",
            "300/837 [=========>....................] - ETA: 1:45\n",
            "Epoch 1 Batch 300 Loss 1.8019\n",
            "400/837 [=============>................] - ETA: 1:20\n",
            "Epoch 1 Batch 400 Loss 1.6228\n",
            "500/837 [================>.............] - ETA: 59s\n",
            "Epoch 1 Batch 500 Loss 1.6081\n",
            "600/837 [====================>.........] - ETA: 40s\n",
            "Epoch 1 Batch 600 Loss 1.4327\n",
            "700/837 [========================>.....] - ETA: 23s\n",
            "Epoch 1 Batch 700 Loss 1.5059\n",
            "800/837 [===========================>..] - ETA: 6s\n",
            "Epoch 1 Batch 800 Loss 1.3407\n",
            "837/837 [==============================] - 138s 165ms/step\n",
            "Epoch 1 Loss 1.7546\n",
            "The validation/test loss after epoch 1 is 2.5931\n",
            "Time taken for 1 epoch 159.72612071037292 sec\n",
            "\n",
            "\n",
            "Epoch 2 Batch 0 Loss 1.1213\n",
            "100/837 [==>...........................] - ETA: 1:49\n",
            "Epoch 2 Batch 100 Loss 1.1519\n",
            "200/837 [======>.......................] - ETA: 1:34\n",
            "Epoch 2 Batch 200 Loss 1.0766\n",
            "300/837 [=========>....................] - ETA: 1:19\n",
            "Epoch 2 Batch 300 Loss 0.9652\n",
            "400/837 [=============>................] - ETA: 1:04\n",
            "Epoch 2 Batch 400 Loss 0.9674\n",
            "500/837 [================>.............] - ETA: 49s\n",
            "Epoch 2 Batch 500 Loss 0.8461\n",
            "600/837 [====================>.........] - ETA: 35s\n",
            "Epoch 2 Batch 600 Loss 0.9943\n",
            "700/837 [========================>.....] - ETA: 20s\n",
            "Epoch 2 Batch 700 Loss 0.8755\n",
            "800/837 [===========================>..] - ETA: 5s\n",
            "Epoch 2 Batch 800 Loss 0.7755\n",
            "837/837 [==============================] - 124s 148ms/step\n",
            "Epoch 2 Loss 0.9376\n",
            "The validation/test loss after epoch 2 is 1.8452\n",
            "Time taken for 1 epoch 145.51577234268188 sec\n",
            "\n",
            "\n",
            "Epoch 3 Batch 0 Loss 0.6428\n",
            "100/837 [==>...........................] - ETA: 1:49\n",
            "Epoch 3 Batch 100 Loss 0.4835\n",
            "200/837 [======>.......................] - ETA: 1:34\n",
            "Epoch 3 Batch 200 Loss 0.5404\n",
            "300/837 [=========>....................] - ETA: 1:19\n",
            "Epoch 3 Batch 300 Loss 0.5067\n",
            "400/837 [=============>................] - ETA: 1:04\n",
            "Epoch 3 Batch 400 Loss 0.6165\n",
            "500/837 [================>.............] - ETA: 49s\n",
            "Epoch 3 Batch 500 Loss 0.4401\n",
            "600/837 [====================>.........] - ETA: 34s\n",
            "Epoch 3 Batch 600 Loss 0.5644\n",
            "700/837 [========================>.....] - ETA: 20s\n",
            "Epoch 3 Batch 700 Loss 0.4842\n",
            "800/837 [===========================>..] - ETA: 5s\n",
            "Epoch 3 Batch 800 Loss 0.4827\n",
            "837/837 [==============================] - 124s 148ms/step\n",
            "Epoch 3 Loss 0.5471\n",
            "The validation/test loss after epoch 3 is 1.6562\n",
            "Time taken for 1 epoch 144.63853192329407 sec\n",
            "\n",
            "\n",
            "Epoch 4 Batch 0 Loss 0.3433\n",
            "100/837 [==>...........................] - ETA: 1:48\n",
            "Epoch 4 Batch 100 Loss 0.3165\n",
            "200/837 [======>.......................] - ETA: 1:33\n",
            "Epoch 4 Batch 200 Loss 0.3546\n",
            "300/837 [=========>....................] - ETA: 1:18\n",
            "Epoch 4 Batch 300 Loss 0.4137\n",
            "400/837 [=============>................] - ETA: 1:04\n",
            "Epoch 4 Batch 400 Loss 0.3613\n",
            "500/837 [================>.............] - ETA: 49s\n",
            "Epoch 4 Batch 500 Loss 0.3592\n",
            "600/837 [====================>.........] - ETA: 34s\n",
            "Epoch 4 Batch 600 Loss 0.4285\n",
            "700/837 [========================>.....] - ETA: 20s\n",
            "Epoch 4 Batch 700 Loss 0.3793\n",
            "800/837 [===========================>..] - ETA: 5s\n",
            "Epoch 4 Batch 800 Loss 0.3792\n",
            "837/837 [==============================] - 124s 148ms/step\n",
            "Epoch 4 Loss 0.3522\n",
            "The validation/test loss after epoch 4 is 1.6373\n",
            "Time taken for 1 epoch 145.27846240997314 sec\n",
            "\n",
            "\n",
            "Epoch 5 Batch 0 Loss 0.2099\n",
            "100/837 [==>...........................] - ETA: 1:49\n",
            "Epoch 5 Batch 100 Loss 0.1793\n",
            "200/837 [======>.......................] - ETA: 1:34\n",
            "Epoch 5 Batch 200 Loss 0.2589\n",
            "300/837 [=========>....................] - ETA: 1:19\n",
            "Epoch 5 Batch 300 Loss 0.2514\n",
            "400/837 [=============>................] - ETA: 1:04\n",
            "Epoch 5 Batch 400 Loss 0.2191\n",
            "500/837 [================>.............] - ETA: 49s\n",
            "Epoch 5 Batch 500 Loss 0.2334\n",
            "600/837 [====================>.........] - ETA: 35s\n",
            "Epoch 5 Batch 600 Loss 0.2712\n",
            "700/837 [========================>.....] - ETA: 20s\n",
            "Epoch 5 Batch 700 Loss 0.2537\n",
            "800/837 [===========================>..] - ETA: 5s\n",
            "Epoch 5 Batch 800 Loss 0.2607\n",
            "837/837 [==============================] - 124s 148ms/step\n",
            "Epoch 5 Loss 0.2431\n",
            "The validation/test loss after epoch 5 is 1.6625\n",
            "Time taken for 1 epoch 145.1329174041748 sec\n",
            "\n",
            "\n",
            "Epoch 6 Batch 0 Loss 0.1841\n",
            "100/837 [==>...........................] - ETA: 1:47\n",
            "Epoch 6 Batch 100 Loss 0.1543\n",
            "200/837 [======>.......................] - ETA: 1:33\n",
            "Epoch 6 Batch 200 Loss 0.1383\n",
            "300/837 [=========>....................] - ETA: 1:18\n",
            "Epoch 6 Batch 300 Loss 0.1639\n",
            "400/837 [=============>................] - ETA: 1:04\n",
            "Epoch 6 Batch 400 Loss 0.1685\n",
            "500/837 [================>.............] - ETA: 49s\n",
            "Epoch 6 Batch 500 Loss 0.1826\n",
            "600/837 [====================>.........] - ETA: 34s\n",
            "Epoch 6 Batch 600 Loss 0.1920\n",
            "700/837 [========================>.....] - ETA: 20s\n",
            "Epoch 6 Batch 700 Loss 0.2349\n",
            "800/837 [===========================>..] - ETA: 5s\n",
            "Epoch 6 Batch 800 Loss 0.2363\n",
            "837/837 [==============================] - 123s 147ms/step\n",
            "Epoch 6 Loss 0.1761\n",
            "The validation/test loss after epoch 6 is 1.7328\n",
            "Time taken for 1 epoch 145.0203664302826 sec\n",
            "\n",
            "\n",
            "Epoch 7 Batch 0 Loss 0.1289\n",
            "100/837 [==>...........................] - ETA: 1:49\n",
            "Epoch 7 Batch 100 Loss 0.0772\n",
            "200/837 [======>.......................] - ETA: 1:34\n",
            "Epoch 7 Batch 200 Loss 0.1085\n",
            "300/837 [=========>....................] - ETA: 1:19\n",
            "Epoch 7 Batch 300 Loss 0.1001\n",
            "400/837 [=============>................] - ETA: 1:04\n",
            "Epoch 7 Batch 400 Loss 0.0940\n",
            "500/837 [================>.............] - ETA: 49s\n",
            "Epoch 7 Batch 500 Loss 0.1050\n",
            "600/837 [====================>.........] - ETA: 34s\n",
            "Epoch 7 Batch 600 Loss 0.1535\n",
            "700/837 [========================>.....] - ETA: 20s\n",
            "Epoch 7 Batch 700 Loss 0.1167\n",
            "800/837 [===========================>..] - ETA: 5s\n",
            "Epoch 7 Batch 800 Loss 0.1937\n",
            "837/837 [==============================] - 124s 148ms/step\n",
            "Epoch 7 Loss 0.1326\n",
            "The validation/test loss after epoch 7 is 1.7839\n",
            "Time taken for 1 epoch 145.24800324440002 sec\n",
            "\n",
            "\n",
            "Epoch 8 Batch 0 Loss 0.1141\n",
            "100/837 [==>...........................] - ETA: 1:51\n",
            "Epoch 8 Batch 100 Loss 0.1068\n",
            "200/837 [======>.......................] - ETA: 1:35\n",
            "Epoch 8 Batch 200 Loss 0.0942\n",
            "300/837 [=========>....................] - ETA: 1:20\n",
            "Epoch 8 Batch 300 Loss 0.0936\n",
            "400/837 [=============>................] - ETA: 1:05\n",
            "Epoch 8 Batch 400 Loss 0.1364\n",
            "500/837 [================>.............] - ETA: 50s\n",
            "Epoch 8 Batch 500 Loss 0.1269\n",
            "600/837 [====================>.........] - ETA: 35s\n",
            "Epoch 8 Batch 600 Loss 0.1422\n",
            "700/837 [========================>.....] - ETA: 20s\n",
            "Epoch 8 Batch 700 Loss 0.0955\n",
            "800/837 [===========================>..] - ETA: 5s\n",
            "Epoch 8 Batch 800 Loss 0.1446\n",
            "837/837 [==============================] - 125s 150ms/step\n",
            "Epoch 8 Loss 0.1071\n",
            "The validation/test loss after epoch 8 is 1.8522\n",
            "Time taken for 1 epoch 148.67838764190674 sec\n",
            "\n",
            "\n",
            "Epoch 9 Batch 0 Loss 0.0873\n",
            "100/837 [==>...........................] - ETA: 1:52\n",
            "Epoch 9 Batch 100 Loss 0.0725\n",
            "200/837 [======>.......................] - ETA: 1:37\n",
            "Epoch 9 Batch 200 Loss 0.0884\n",
            "300/837 [=========>....................] - ETA: 1:21\n",
            "Epoch 9 Batch 300 Loss 0.0574\n",
            "400/837 [=============>................] - ETA: 1:06\n",
            "Epoch 9 Batch 400 Loss 0.0676\n",
            "500/837 [================>.............] - ETA: 51s\n",
            "Epoch 9 Batch 500 Loss 0.0900\n",
            "600/837 [====================>.........] - ETA: 35s\n",
            "Epoch 9 Batch 600 Loss 0.0708\n",
            "700/837 [========================>.....] - ETA: 20s\n",
            "Epoch 9 Batch 700 Loss 0.1103\n",
            "800/837 [===========================>..] - ETA: 5s\n",
            "Epoch 9 Batch 800 Loss 0.1213\n",
            "837/837 [==============================] - 127s 152ms/step\n",
            "Epoch 9 Loss 0.0906\n",
            "The validation/test loss after epoch 9 is 1.9546\n",
            "Time taken for 1 epoch 149.51255917549133 sec\n",
            "\n",
            "\n",
            "Epoch 10 Batch 0 Loss 0.0629\n",
            "100/837 [==>...........................] - ETA: 1:51\n",
            "Epoch 10 Batch 100 Loss 0.0625\n",
            "200/837 [======>.......................] - ETA: 1:35\n",
            "Epoch 10 Batch 200 Loss 0.0597\n",
            "300/837 [=========>....................] - ETA: 1:20\n",
            "Epoch 10 Batch 300 Loss 0.1172\n",
            "400/837 [=============>................] - ETA: 1:05\n",
            "Epoch 10 Batch 400 Loss 0.0806\n",
            "500/837 [================>.............] - ETA: 50s\n",
            "Epoch 10 Batch 500 Loss 0.0802\n",
            "600/837 [====================>.........] - ETA: 35s\n",
            "Epoch 10 Batch 600 Loss 0.0751\n",
            "700/837 [========================>.....] - ETA: 20s\n",
            "Epoch 10 Batch 700 Loss 0.0814\n",
            "800/837 [===========================>..] - ETA: 5s\n",
            "Epoch 10 Batch 800 Loss 0.1019\n",
            "837/837 [==============================] - 125s 149ms/step\n",
            "Epoch 10 Loss 0.0807\n",
            "The validation/test loss after epoch 10 is 1.9823\n",
            "Time taken for 1 epoch 146.80528211593628 sec\n",
            "\n",
            "\n",
            "Epoch 11 Batch 0 Loss 0.0640\n",
            "100/837 [==>...........................] - ETA: 1:49\n",
            "Epoch 11 Batch 100 Loss 0.0572\n",
            "200/837 [======>.......................] - ETA: 1:34\n",
            "Epoch 11 Batch 200 Loss 0.0654\n",
            "300/837 [=========>....................] - ETA: 1:19\n",
            "Epoch 11 Batch 300 Loss 0.0535\n",
            "400/837 [=============>................] - ETA: 1:04\n",
            "Epoch 11 Batch 400 Loss 0.0894\n",
            "500/837 [================>.............] - ETA: 50s\n",
            "Epoch 11 Batch 500 Loss 0.0737\n",
            "600/837 [====================>.........] - ETA: 35s\n",
            "Epoch 11 Batch 600 Loss 0.0973\n",
            "700/837 [========================>.....] - ETA: 20s\n",
            "Epoch 11 Batch 700 Loss 0.0837\n",
            "800/837 [===========================>..] - ETA: 5s\n",
            "Epoch 11 Batch 800 Loss 0.0894\n",
            "837/837 [==============================] - 125s 149ms/step\n",
            "Epoch 11 Loss 0.0712\n",
            "The validation/test loss after epoch 11 is 1.9829\n",
            "Time taken for 1 epoch 145.94124126434326 sec\n",
            "\n",
            "\n",
            "Epoch 12 Batch 0 Loss 0.0539\n",
            "100/837 [==>...........................] - ETA: 1:49\n",
            "Epoch 12 Batch 100 Loss 0.0361\n",
            "200/837 [======>.......................] - ETA: 1:34\n",
            "Epoch 12 Batch 200 Loss 0.0710\n",
            "300/837 [=========>....................] - ETA: 1:19\n",
            "Epoch 12 Batch 300 Loss 0.0419\n",
            "400/837 [=============>................] - ETA: 1:04\n",
            "Epoch 12 Batch 400 Loss 0.0534\n",
            "500/837 [================>.............] - ETA: 49s\n",
            "Epoch 12 Batch 500 Loss 0.0597\n",
            "600/837 [====================>.........] - ETA: 35s\n",
            "Epoch 12 Batch 600 Loss 0.0451\n",
            "700/837 [========================>.....] - ETA: 20s\n",
            "Epoch 12 Batch 700 Loss 0.0827\n",
            "800/837 [===========================>..] - ETA: 5s\n",
            "Epoch 12 Batch 800 Loss 0.0850\n",
            "837/837 [==============================] - 124s 148ms/step\n",
            "Epoch 12 Loss 0.0666\n",
            "The validation/test loss after epoch 12 is 2.0787\n",
            "Time taken for 1 epoch 145.2517168521881 sec\n",
            "\n",
            "\n",
            "Epoch 13 Batch 0 Loss 0.0508\n",
            "100/837 [==>...........................] - ETA: 1:50\n",
            "Epoch 13 Batch 100 Loss 0.0839\n",
            "200/837 [======>.......................] - ETA: 1:34\n",
            "Epoch 13 Batch 200 Loss 0.0670\n",
            "300/837 [=========>....................] - ETA: 1:19\n",
            "Epoch 13 Batch 300 Loss 0.0632\n",
            "400/837 [=============>................] - ETA: 1:04\n",
            "Epoch 13 Batch 400 Loss 0.0424\n",
            "500/837 [================>.............] - ETA: 49s\n",
            "Epoch 13 Batch 500 Loss 0.0756\n",
            "600/837 [====================>.........] - ETA: 35s\n",
            "Epoch 13 Batch 600 Loss 0.0388\n",
            "700/837 [========================>.....] - ETA: 20s\n",
            "Epoch 13 Batch 700 Loss 0.0831\n",
            "800/837 [===========================>..] - ETA: 5s\n",
            "Epoch 13 Batch 800 Loss 0.0722\n",
            "837/837 [==============================] - 124s 148ms/step\n",
            "Epoch 13 Loss 0.0611\n",
            "The validation/test loss after epoch 13 is 2.1551\n",
            "Time taken for 1 epoch 145.1257200241089 sec\n",
            "\n",
            "\n",
            "Epoch 14 Batch 0 Loss 0.0465\n",
            "100/837 [==>...........................] - ETA: 1:49\n",
            "Epoch 14 Batch 100 Loss 0.0412\n",
            "200/837 [======>.......................] - ETA: 1:33\n",
            "Epoch 14 Batch 200 Loss 0.0284\n",
            "300/837 [=========>....................] - ETA: 1:19\n",
            "Epoch 14 Batch 300 Loss 0.0633\n",
            "400/837 [=============>................] - ETA: 1:04\n",
            "Epoch 14 Batch 400 Loss 0.0505\n",
            "500/837 [================>.............] - ETA: 49s\n",
            "Epoch 14 Batch 500 Loss 0.0469\n",
            "600/837 [====================>.........] - ETA: 34s\n",
            "Epoch 14 Batch 600 Loss 0.0572\n",
            "700/837 [========================>.....] - ETA: 20s\n",
            "Epoch 14 Batch 700 Loss 0.1020\n",
            "800/837 [===========================>..] - ETA: 5s\n",
            "Epoch 14 Batch 800 Loss 0.0590\n",
            "837/837 [==============================] - 123s 147ms/step\n",
            "Epoch 14 Loss 0.0581\n",
            "The validation/test loss after epoch 14 is 2.1786\n",
            "Time taken for 1 epoch 144.93994569778442 sec\n",
            "\n",
            "\n",
            "Epoch 15 Batch 0 Loss 0.0301\n",
            "100/837 [==>...........................] - ETA: 1:48\n",
            "Epoch 15 Batch 100 Loss 0.0452\n",
            "200/837 [======>.......................] - ETA: 1:33\n",
            "Epoch 15 Batch 200 Loss 0.0294\n",
            "300/837 [=========>....................] - ETA: 1:19\n",
            "Epoch 15 Batch 300 Loss 0.0443\n",
            "400/837 [=============>................] - ETA: 1:04\n",
            "Epoch 15 Batch 400 Loss 0.0396\n",
            "500/837 [================>.............] - ETA: 49s\n",
            "Epoch 15 Batch 500 Loss 0.0763\n",
            "600/837 [====================>.........] - ETA: 34s\n",
            "Epoch 15 Batch 600 Loss 0.0465\n",
            "700/837 [========================>.....] - ETA: 20s\n",
            "Epoch 15 Batch 700 Loss 0.0582\n",
            "800/837 [===========================>..] - ETA: 5s\n",
            "Epoch 15 Batch 800 Loss 0.0744\n",
            "837/837 [==============================] - 123s 147ms/step\n",
            "Epoch 15 Loss 0.0552\n",
            "The validation/test loss after epoch 15 is 2.2309\n",
            "Time taken for 1 epoch 144.8515260219574 sec\n",
            "\n",
            "\n",
            "Epoch 16 Batch 0 Loss 0.0206\n",
            "100/837 [==>...........................] - ETA: 1:49\n",
            "Epoch 16 Batch 100 Loss 0.0489\n",
            "200/837 [======>.......................] - ETA: 1:33\n",
            "Epoch 16 Batch 200 Loss 0.0324\n",
            "300/837 [=========>....................] - ETA: 1:19\n",
            "Epoch 16 Batch 300 Loss 0.0275\n",
            "400/837 [=============>................] - ETA: 1:04\n",
            "Epoch 16 Batch 400 Loss 0.0529\n",
            "500/837 [================>.............] - ETA: 49s\n",
            "Epoch 16 Batch 500 Loss 0.0305\n",
            "600/837 [====================>.........] - ETA: 35s\n",
            "Epoch 16 Batch 600 Loss 0.0653\n",
            "700/837 [========================>.....] - ETA: 20s\n",
            "Epoch 16 Batch 700 Loss 0.0509\n",
            "800/837 [===========================>..] - ETA: 5s\n",
            "Epoch 16 Batch 800 Loss 0.0503\n",
            "837/837 [==============================] - 123s 147ms/step\n",
            "Epoch 16 Loss 0.0514\n",
            "The validation/test loss after epoch 16 is 2.2343\n",
            "Time taken for 1 epoch 144.86747765541077 sec\n",
            "\n",
            "\n",
            "Epoch 17 Batch 0 Loss 0.0284\n",
            "100/837 [==>...........................] - ETA: 1:48\n",
            "Epoch 17 Batch 100 Loss 0.0472\n",
            "200/837 [======>.......................] - ETA: 1:33\n",
            "Epoch 17 Batch 200 Loss 0.0318\n",
            "300/837 [=========>....................] - ETA: 1:19\n",
            "Epoch 17 Batch 300 Loss 0.0666\n",
            "400/837 [=============>................] - ETA: 1:04\n",
            "Epoch 17 Batch 400 Loss 0.0517\n",
            "500/837 [================>.............] - ETA: 49s\n",
            "Epoch 17 Batch 500 Loss 0.0453\n",
            "600/837 [====================>.........] - ETA: 35s\n",
            "Epoch 17 Batch 600 Loss 0.0467\n",
            "700/837 [========================>.....] - ETA: 20s\n",
            "Epoch 17 Batch 700 Loss 0.0587\n",
            "800/837 [===========================>..] - ETA: 5s\n",
            "Epoch 17 Batch 800 Loss 0.0728\n",
            "837/837 [==============================] - 123s 147ms/step\n",
            "Epoch 17 Loss 0.0510\n",
            "The validation/test loss after epoch 17 is 2.2709\n",
            "Time taken for 1 epoch 144.74970722198486 sec\n",
            "\n",
            "\n",
            "Epoch 18 Batch 0 Loss 0.0507\n",
            "100/837 [==>...........................] - ETA: 1:49\n",
            "Epoch 18 Batch 100 Loss 0.0356\n",
            "200/837 [======>.......................] - ETA: 1:34\n",
            "Epoch 18 Batch 200 Loss 0.0438\n",
            "300/837 [=========>....................] - ETA: 1:19\n",
            "Epoch 18 Batch 300 Loss 0.0425\n",
            "400/837 [=============>................] - ETA: 1:04\n",
            "Epoch 18 Batch 400 Loss 0.0339\n",
            "500/837 [================>.............] - ETA: 49s\n",
            "Epoch 18 Batch 500 Loss 0.0411\n",
            "600/837 [====================>.........] - ETA: 34s\n",
            "Epoch 18 Batch 600 Loss 0.0551\n",
            "700/837 [========================>.....] - ETA: 20s\n",
            "Epoch 18 Batch 700 Loss 0.0460\n",
            "800/837 [===========================>..] - ETA: 5s\n",
            "Epoch 18 Batch 800 Loss 0.0595\n",
            "837/837 [==============================] - 124s 148ms/step\n",
            "Epoch 18 Loss 0.0481\n",
            "The validation/test loss after epoch 18 is 2.2650\n",
            "Time taken for 1 epoch 145.36486148834229 sec\n",
            "\n",
            "\n",
            "Epoch 19 Batch 0 Loss 0.0350\n",
            "100/837 [==>...........................] - ETA: 1:49\n",
            "Epoch 19 Batch 100 Loss 0.0254\n",
            "200/837 [======>.......................] - ETA: 1:34\n",
            "Epoch 19 Batch 200 Loss 0.0424\n",
            "300/837 [=========>....................] - ETA: 1:19\n",
            "Epoch 19 Batch 300 Loss 0.0473\n",
            "400/837 [=============>................] - ETA: 1:04\n",
            "Epoch 19 Batch 400 Loss 0.0351\n",
            "500/837 [================>.............] - ETA: 49s\n",
            "Epoch 19 Batch 500 Loss 0.0419\n",
            "600/837 [====================>.........] - ETA: 35s\n",
            "Epoch 19 Batch 600 Loss 0.0367\n",
            "700/837 [========================>.....] - ETA: 20s\n",
            "Epoch 19 Batch 700 Loss 0.0523\n",
            "800/837 [===========================>..] - ETA: 5s\n",
            "Epoch 19 Batch 800 Loss 0.0523\n",
            "837/837 [==============================] - 124s 148ms/step\n",
            "Epoch 19 Loss 0.0469\n",
            "The validation/test loss after epoch 19 is 2.3172\n",
            "Time taken for 1 epoch 145.62375497817993 sec\n",
            "\n",
            "\n",
            "Epoch 20 Batch 0 Loss 0.0599\n",
            "100/837 [==>...........................] - ETA: 1:49\n",
            "Epoch 20 Batch 100 Loss 0.0748\n",
            "200/837 [======>.......................] - ETA: 1:34\n",
            "Epoch 20 Batch 200 Loss 0.0938\n",
            "300/837 [=========>....................] - ETA: 1:19\n",
            "Epoch 20 Batch 300 Loss 0.0643\n",
            "400/837 [=============>................] - ETA: 1:04\n",
            "Epoch 20 Batch 400 Loss 0.0403\n",
            "500/837 [================>.............] - ETA: 49s\n",
            "Epoch 20 Batch 500 Loss 0.0545\n",
            "600/837 [====================>.........] - ETA: 35s\n",
            "Epoch 20 Batch 600 Loss 0.0441\n",
            "700/837 [========================>.....] - ETA: 20s\n",
            "Epoch 20 Batch 700 Loss 0.0589\n",
            "800/837 [===========================>..] - ETA: 5s\n",
            "Epoch 20 Batch 800 Loss 0.0626\n",
            "837/837 [==============================] - 124s 148ms/step\n",
            "Epoch 20 Loss 0.0467\n",
            "The validation/test loss after epoch 20 is 2.3285\n",
            "Time taken for 1 epoch 145.21592497825623 sec\n",
            "\n"
          ],
          "name": "stdout"
        }
      ]
    },
    {
      "cell_type": "code",
      "metadata": {
        "id": "xKFUf8codT6F",
        "colab_type": "code",
        "colab": {}
      },
      "source": [
        "def plot(trainloss,EPOCHS):\n",
        "  epochs_range=range(EPOCHS)\n",
        "  plt.figure(figsize=(10, 10))\n",
        "  plt.plot(epochs_range, trainloss, label='Training Loss')\n",
        "  plt.title('Training Loss')\n"
      ],
      "execution_count": 0,
      "outputs": []
    },
    {
      "cell_type": "code",
      "metadata": {
        "id": "JShVcmt7ePxi",
        "colab_type": "code",
        "outputId": "47f89e70-8a8f-4dc4-9780-b660e489767e",
        "colab": {
          "base_uri": "https://localhost:8080/",
          "height": 607
        }
      },
      "source": [
        "plot(Train_loss,EPOCHS)"
      ],
      "execution_count": 0,
      "outputs": [
        {
          "output_type": "display_data",
          "data": {
            "image/png": "[encoded data removed]",
            "text/plain": [
              "<Figure size 720x720 with 1 Axes>"
            ]
          },
          "metadata": {
            "tags": [],
            "needs_background": "light"
          }
        }
      ]
    },
    {
      "cell_type": "code",
      "metadata": {
        "id": "pUZOrCHW46ur",
        "colab_type": "code",
        "colab": {}
      },
      "source": [
        "def evaluate(sentence):\n",
        "  attention_plot = np.zeros((target_length, input_length))\n",
        "  w=preprocess(sentence)\n",
        "  encoded=[inputdict.word_index[i] for i in w.split(' ')]\n",
        "  encoded=tf.keras.preprocessing.sequence.pad_sequences([encoded],maxlen=example_input_batch.shape[1],padding='post')\n",
        "  encoded=tf.convert_to_tensor(encoded)\n",
        "  translated=''\n",
        "  initialhidden=tf.zeros((1,gruunits))\n",
        "  encoderoutput,encoderhidden=encoder(encoded,initialhidden)\n",
        "  decoderhidden=encoderhidden\n",
        "  decoderinput=tf.expand_dims([targetdict.word_index['<start>']],0)\n",
        "  for time in range(example_target_batch.shape[1]):\n",
        "     decoderoutput,decoderhidden,attention_weights=decoder(encoderoutput,decoderhidden,decoderinput)\n",
        "     attention_weights = tf.reshape(attention_weights, (-1, ))#to plot the attention\n",
        "     attention_plot[time] = attention_weights.numpy()\n",
        "     predictedid=tf.argmax(decoderoutput[0]).numpy()\n",
        "     translated+=targetdict.index_word[predictedid]+' '\n",
        "     if (targetdict.index_word[predictedid]=='<end>'):\n",
        "       return translated,attention_plot\n",
        "     decoderinput=tf.expand_dims([predictedid],0)\n",
        "  \n",
        "  return translated,attention_plot"
      ],
      "execution_count": 0,
      "outputs": []
    },
    {
      "cell_type": "code",
      "metadata": {
        "id": "X1APgKE5f-qx",
        "colab_type": "code",
        "colab": {}
      },
      "source": [
        "def plot_attention(attention, sentence, predicted_sentence):\n",
        "  fig = plt.figure(figsize=(10,10))\n",
        "  ax = fig.add_subplot(1, 1, 1)\n",
        "  cax=ax.matshow(attention, cmap='viridis')\n",
        "  fig.colorbar(cax)\n",
        "  fontdict = {'fontsize': 14}\n",
        "  ax.set_xticklabels([''] + sentence, fontdict=fontdict, rotation=90)\n",
        "  ax.set_yticklabels([''] + predicted_sentence, fontdict=fontdict)\n",
        "  ax.xaxis.set_major_locator(ticker.MultipleLocator(1))\n",
        "  ax.yaxis.set_major_locator(ticker.MultipleLocator(1))\n",
        "  plt.show()\n"
      ],
      "execution_count": 0,
      "outputs": []
    },
    {
      "cell_type": "code",
      "metadata": {
        "id": "pW5Fz_LX8Uim",
        "colab_type": "code",
        "colab": {}
      },
      "source": [
        "def translate(sentence):\n",
        "  result,attention_plot= evaluate(sentence)\n",
        "  sen=preprocess(sentence)\n",
        "  print('Input: %s' % (sen))\n",
        "  print('Predicted translation: {}'.format(result))\n",
        "  attention_plot = attention_plot[:len(result.split(' ')), :len(sen.split(' '))]\n",
        "  plot_attention(attention_plot, sen.split(' '), result.split(' '))"
      ],
      "execution_count": 0,
      "outputs": []
    },
    {
      "cell_type": "code",
      "metadata": {
        "id": "jKf2jcmFA8TB",
        "colab_type": "code",
        "outputId": "23b35a03-b689-4279-ee54-c18db83d8c87",
        "colab": {
          "base_uri": "https://localhost:8080/",
          "height": 719
        }
      },
      "source": [
        "translate(u'trata de averiguarlo.')\n",
        "print(\"The ground truth is - try to find out\")"
      ],
      "execution_count": 0,
      "outputs": [
        {
          "output_type": "stream",
          "text": [
            "Input: <start> trata de averiguarlo . <end>\n",
            "Predicted translation: try to figure it out . <end> \n"
          ],
          "name": "stdout"
        },
        {
          "output_type": "display_data",
          "data": {
            "image/png": "[encoded data removed]",
            "text/plain": [
              "<Figure size 720x720 with 2 Axes>"
            ]
          },
          "metadata": {
            "tags": [],
            "needs_background": "light"
          }
        },
        {
          "output_type": "stream",
          "text": [
            "The ground truth is - try to find out\n"
          ],
          "name": "stdout"
        }
      ]
    },
    {
      "cell_type": "code",
      "metadata": {
        "id": "rNrg6plZPyMm",
        "colab_type": "code",
        "outputId": "26843d23-e962-45e2-c16c-f3940a8ae89e",
        "colab": {
          "base_uri": "https://localhost:8080/",
          "height": 714
        }
      },
      "source": [
        "\n",
        "translate(u'Soy el presidente de este pais')\n",
        "print(\"The ground truth is - I am the president of this country\")"
      ],
      "execution_count": 0,
      "outputs": [
        {
          "output_type": "stream",
          "text": [
            "Input: <start> soy el presidente de este pais <end>\n",
            "Predicted translation: i m the president of this country . <end> \n"
          ],
          "name": "stdout"
        },
        {
          "output_type": "display_data",
          "data": {
            "image/png": "[encoded data removed]",
            "text/plain": [
              "<Figure size 720x720 with 2 Axes>"
            ]
          },
          "metadata": {
            "tags": [],
            "needs_background": "light"
          }
        },
        {
          "output_type": "stream",
          "text": [
            "The ground truth is - I am the president of this country\n"
          ],
          "name": "stdout"
        }
      ]
    },
    {
      "cell_type": "code",
      "metadata": {
        "id": "OeBme8gnZ289",
        "colab_type": "code",
        "outputId": "83c6324b-0244-4374-94ec-b6d35cdc2c2a",
        "colab": {
          "base_uri": "https://localhost:8080/",
          "height": 679
        }
      },
      "source": [
        "translate(u'Te quiere mucho')\n",
        "print(\"The ground truth is - He loves you very much\")"
      ],
      "execution_count": 0,
      "outputs": [
        {
          "output_type": "stream",
          "text": [
            "Input: <start> te quiere mucho <end>\n",
            "Predicted translation: he loves you very much . <end> \n"
          ],
          "name": "stdout"
        },
        {
          "output_type": "display_data",
          "data": {
            "image/png": "[encoded data removed]",
            "text/plain": [
              "<Figure size 720x720 with 2 Axes>"
            ]
          },
          "metadata": {
            "tags": [],
            "needs_background": "light"
          }
        }
      ]
    },
    {
      "cell_type": "code",
      "metadata": {
        "id": "JFR2N7U0XLRp",
        "colab_type": "code",
        "outputId": "2303ca46-b51d-47b4-8921-77216b24ce46",
        "colab": {
          "base_uri": "https://localhost:8080/",
          "height": 696
        }
      },
      "source": [
        "translate(u'No sabía que eras de Boston.')\n",
        "print(\"The ground truth is- I didnt know you were from boston\")"
      ],
      "execution_count": 0,
      "outputs": [
        {
          "output_type": "stream",
          "text": [
            "Input: <start> no sabia que eras de boston . <end>\n",
            "Predicted translation: i didn t know you were in boston . <end> \n"
          ],
          "name": "stdout"
        },
        {
          "output_type": "display_data",
          "data": {
            "image/png": "[encoded data removed]",
            "text/plain": [
              "<Figure size 720x720 with 2 Axes>"
            ]
          },
          "metadata": {
            "tags": [],
            "needs_background": "light"
          }
        },
        {
          "output_type": "stream",
          "text": [
            "The ground truth is- I didnt know you were from boston\n"
          ],
          "name": "stdout"
        }
      ]
    },
    {
      "cell_type": "code",
      "metadata": {
        "id": "qj280705A5lh",
        "colab_type": "code",
        "outputId": "42a437fa-e8ac-4ae0-ae32-0309e9282b70",
        "colab": {
          "base_uri": "https://localhost:8080/",
          "height": 683
        }
      },
      "source": [
        "translate(u'Estoy cansada, pero no puedo quedarme dormida.')\n",
        "print(\"The ground truth is -I am tired, but I cannot fall asleep\")"
      ],
      "execution_count": 0,
      "outputs": [
        {
          "output_type": "stream",
          "text": [
            "Input: <start> estoy cansada , pero no puedo quedarme dormida . <end>\n",
            "Predicted translation: i m tired , i can t sleep in . <end> \n"
          ],
          "name": "stdout"
        },
        {
          "output_type": "display_data",
          "data": {
            "image/png": "[encoded data removed]",
            "text/plain": [
              "<Figure size 720x720 with 2 Axes>"
            ]
          },
          "metadata": {
            "tags": [],
            "needs_background": "light"
          }
        },
        {
          "output_type": "stream",
          "text": [
            "The ground truth is -I am tired, but I cannot fall asleep\n"
          ],
          "name": "stdout"
        }
      ]
    },
    {
      "cell_type": "code",
      "metadata": {
        "id": "zOePEQFOOZEk",
        "colab_type": "code",
        "outputId": "75ebdc4f-df48-41af-f324-e3acac8fb413",
        "colab": {
          "base_uri": "https://localhost:8080/",
          "height": 685
        }
      },
      "source": [
        "translate(u'No recuerdo haberte invitado.')\n",
        "print(\"The ground truth is -I don't remember inviting you.\")"
      ],
      "execution_count": 0,
      "outputs": [
        {
          "output_type": "stream",
          "text": [
            "Input: <start> no recuerdo haberte invitado . <end>\n",
            "Predicted translation: i don t remember inviting you . <end> \n"
          ],
          "name": "stdout"
        },
        {
          "output_type": "display_data",
          "data": {
            "image/png": "[encoded data removed]",
            "text/plain": [
              "<Figure size 720x720 with 2 Axes>"
            ]
          },
          "metadata": {
            "tags": [],
            "needs_background": "light"
          }
        }
      ]
    },
    {
      "cell_type": "code",
      "metadata": {
        "id": "OuLP5ctTXq3O",
        "colab_type": "code",
        "outputId": "49d7edee-e059-4cf6-8de5-b7fc83151905",
        "colab": {
          "base_uri": "https://localhost:8080/",
          "height": 655
        }
      },
      "source": [
        "translate(u'Apenas puedo entender lo que él dice.')\n",
        "print(\"The ground truth is- I can hardly make out what he says\")"
      ],
      "execution_count": 0,
      "outputs": [
        {
          "output_type": "stream",
          "text": [
            "Input: <start> apenas puedo entender lo que el dice . <end>\n",
            "Predicted translation: i can hardly understand what he says . <end> \n"
          ],
          "name": "stdout"
        },
        {
          "output_type": "display_data",
          "data": {
            "image/png": "[encoded data removed]",
            "text/plain": [
              "<Figure size 720x720 with 2 Axes>"
            ]
          },
          "metadata": {
            "tags": [],
            "needs_background": "light"
          }
        },
        {
          "output_type": "stream",
          "text": [
            "The ground truth is- I can hardly make out what he says\n"
          ],
          "name": "stdout"
        }
      ]
    },
    {
      "cell_type": "code",
      "metadata": {
        "id": "Wo2LtxmFA-Dw",
        "colab_type": "code",
        "outputId": "0e5b5e75-7e72-438b-83cc-636e6727f18f",
        "colab": {
          "base_uri": "https://localhost:8080/",
          "height": 647
        }
      },
      "source": [
        "translate(u'¿todavia estan en casa?')\n",
        "print(\"The ground truth is -Are they still home\")"
      ],
      "execution_count": 0,
      "outputs": [
        {
          "output_type": "stream",
          "text": [
            "Input: <start> ¿ todavia estan en casa ? <end>\n",
            "Predicted translation: are you still at home ? <end> \n"
          ],
          "name": "stdout"
        },
        {
          "output_type": "display_data",
          "data": {
            "image/png": "[encoded data removed]",
            "text/plain": [
              "<Figure size 720x720 with 2 Axes>"
            ]
          },
          "metadata": {
            "tags": [],
            "needs_background": "light"
          }
        },
        {
          "output_type": "stream",
          "text": [
            "The ground truth is -Are they still home\n"
          ],
          "name": "stdout"
        }
      ]
    },
    {
      "cell_type": "code",
      "metadata": {
        "id": "CYtgIXgWQ-zP",
        "colab_type": "code",
        "outputId": "6f2bde78-bcd1-43d4-ce59-040cbee86cdd",
        "colab": {
          "base_uri": "https://localhost:8080/",
          "height": 701
        }
      },
      "source": [
        "translate(u'Quiero decirte que eres muy hermosa')\n",
        "print(\"The ground truth is - I want to tell you that you are very beautiful\")"
      ],
      "execution_count": 0,
      "outputs": [
        {
          "output_type": "stream",
          "text": [
            "Input: <start> quiero decirte que eres muy hermosa <end>\n",
            "Predicted translation: i want to tell you are very beautiful . <end> \n"
          ],
          "name": "stdout"
        },
        {
          "output_type": "display_data",
          "data": {
            "image/png": "[encoded data removed]",
            "text/plain": [
              "<Figure size 720x720 with 2 Axes>"
            ]
          },
          "metadata": {
            "tags": [],
            "needs_background": "light"
          }
        },
        {
          "output_type": "stream",
          "text": [
            "The ground truth is - I want to tell you that you are very beautiful\n"
          ],
          "name": "stdout"
        }
      ]
    },
    {
      "cell_type": "code",
      "metadata": {
        "id": "5lWfx1GjBAAV",
        "colab_type": "code",
        "outputId": "2af959ee-ac7b-40fc-bf11-e8c57e4859d5",
        "colab": {
          "base_uri": "https://localhost:8080/",
          "height": 632
        }
      },
      "source": [
        "translate(u'El inglés es difícil de aprender.')\n",
        "print(\"The ground truth is -English is difficult to learn.\")"
      ],
      "execution_count": 0,
      "outputs": [
        {
          "output_type": "stream",
          "text": [
            "Input: <start> el ingles es dificil de aprender . <end>\n",
            "Predicted translation: english is hard to learn . <end> \n"
          ],
          "name": "stdout"
        },
        {
          "output_type": "display_data",
          "data": {
            "image/png": "[encoded data removed]",
            "text/plain": [
              "<Figure size 720x720 with 2 Axes>"
            ]
          },
          "metadata": {
            "tags": [],
            "needs_background": "light"
          }
        },
        {
          "output_type": "stream",
          "text": [
            "The ground truth is -English is difficult to learn.\n"
          ],
          "name": "stdout"
        }
      ]
    },
    {
      "cell_type": "code",
      "metadata": {
        "colab_type": "code",
        "id": "zSx2iM36EZQZ",
        "outputId": "a0f813fd-fbe0-4b74-ed94-2882a61e4083",
        "colab": {
          "base_uri": "https://localhost:8080/",
          "height": 657
        }
      },
      "source": [
        "translate(u'Su esposa es una mujer talentosa.')\n",
        "print(\"The ground truth is -His wife is a talented woman\")"
      ],
      "execution_count": 0,
      "outputs": [
        {
          "output_type": "stream",
          "text": [
            "Input: <start> su esposa es una mujer talentosa . <end>\n",
            "Predicted translation: her wife is a famous woman . <end> \n"
          ],
          "name": "stdout"
        },
        {
          "output_type": "display_data",
          "data": {
            "image/png": "[encoded data removed]",
            "text/plain": [
              "<Figure size 720x720 with 2 Axes>"
            ]
          },
          "metadata": {
            "tags": [],
            "needs_background": "light"
          }
        },
        {
          "output_type": "stream",
          "text": [
            "The ground truth is -His wife is a talented woman\n"
          ],
          "name": "stdout"
        }
      ]
    },
    {
      "cell_type": "code",
      "metadata": {
        "id": "GzYi47rccWWp",
        "colab_type": "code",
        "outputId": "bd9312a2-30dd-43a5-f47d-376532466a66",
        "colab": {
          "base_uri": "https://localhost:8080/",
          "height": 632
        }
      },
      "source": [
        "translate(u'¿Has terminado de leer el libro?')\n",
        "print('The ground truth is - Have you finished reading the book ?')"
      ],
      "execution_count": 0,
      "outputs": [
        {
          "output_type": "stream",
          "text": [
            "Input: <start> ¿ has terminado de leer el libro ? <end>\n",
            "Predicted translation: have you finished the book ? <end> \n"
          ],
          "name": "stdout"
        },
        {
          "output_type": "display_data",
          "data": {
            "image/png": "[encoded data removed]",
            "text/plain": [
              "<Figure size 720x720 with 2 Axes>"
            ]
          },
          "metadata": {
            "tags": [],
            "needs_background": "light"
          }
        },
        {
          "output_type": "stream",
          "text": [
            "The ground truth is - Have you finished reading the book ?\n"
          ],
          "name": "stdout"
        }
      ]
    },
    {
      "cell_type": "code",
      "metadata": {
        "id": "E-oZzToPeToV",
        "colab_type": "code",
        "outputId": "46160fac-2abb-481a-d37b-af94be8f107c",
        "colab": {
          "base_uri": "https://localhost:8080/",
          "height": 647
        }
      },
      "source": [
        "translate(u'Él me trata como si fuera un extraño. ')\n",
        "print(\"The ground truth is - He treats me like I am a stranger\")"
      ],
      "execution_count": 0,
      "outputs": [
        {
          "output_type": "stream",
          "text": [
            "Input: <start> el me trata como si fuera un extrano . <end>\n",
            "Predicted translation: he treats me how i m an outsider . <end> \n"
          ],
          "name": "stdout"
        },
        {
          "output_type": "display_data",
          "data": {
            "image/png": "[encoded data removed]",
            "text/plain": [
              "<Figure size 720x720 with 2 Axes>"
            ]
          },
          "metadata": {
            "tags": [],
            "needs_background": "light"
          }
        },
        {
          "output_type": "stream",
          "text": [
            "The ground truth is - He treats me like I am a stranger\n"
          ],
          "name": "stdout"
        }
      ]
    }
  ]
}